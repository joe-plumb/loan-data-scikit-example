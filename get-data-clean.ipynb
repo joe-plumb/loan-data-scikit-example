{
 "cells": [
  {
   "cell_type": "markdown",
   "metadata": {},
   "source": [
    "# get-data\n",
    "This notebook collects the sample data from the [Github Link](https://github.com/IBMDevConnect/RBSHack2018/raw/master/hackdata/hack_data_v1.zip) and imports it into the Watson Studio project."
   ]
  },
  {
   "cell_type": "code",
   "execution_count": 1,
   "metadata": {},
   "outputs": [],
   "source": [
    "# Add the project access token here. For more info, see this blog:\n",
    "# https://medium.com/ibm-data-science-experience/control-your-dsx-projects-using-python-c69e13880312"
   ]
  },
  {
   "cell_type": "code",
   "execution_count": 2,
   "metadata": {},
   "outputs": [],
   "source": [
    "import requests, zipfile\n",
    "url = 'https://github.com/IBMDevConnect/RBSHack2018/raw/master/hackdata/hack_data_v1.zip'\n",
    "target_path = 'hack_data_v1.zip'\n",
    "\n",
    "response = requests.get(url, stream=True)\n",
    "handle = open(target_path, \"wb\")\n",
    "for chunk in response.iter_content(chunk_size=512):\n",
    "    if chunk:  # filter out keep-alive new chunks\n",
    "        handle.write(chunk)\n",
    "handle.close()"
   ]
  },
  {
   "cell_type": "code",
   "execution_count": 3,
   "metadata": {},
   "outputs": [],
   "source": [
    "with zipfile.ZipFile(target_path) as zf:\n",
    "    zf.extractall()\n",
    "for filename in ['test_indessa.csv', 'train_indessa.csv']:\n",
    "    with open(filename, 'rb') as file:\n",
    "        project.save_data(data=file,file_name=filename,overwrite=True)\n",
    "#     print(zf.namelist())\n",
    "#     for filename in ['test_indessa.csv', 'train_indessa.csv']:\n",
    "#         try:\n",
    "#             data = zf.read(filename)\n",
    "#         except KeyError:\n",
    "#             print('ERROR: Did not find %s in zip file' % filename)\n",
    "#         else:\n",
    "#             print(filename, ':')\n",
    "#             project.save_data(data=repr(data),file_name=filename,overwrite=True)\n",
    "#         print()\n"
   ]
  },
  {
   "cell_type": "code",
   "execution_count": 4,
   "metadata": {},
   "outputs": [
    {
     "name": "stdout",
     "output_type": "stream",
     "text": [
      "member_id,loan_amnt,funded_amnt,funded_amnt_inv,term,batch_enrolled,int_rate,grade,sub_grade,emp_title,emp_length,home_ownership,annual_inc,verification_status,pymnt_plan,desc,purpose,title,zip_code,addr_state,dti,delinq_2yrs,inq_last_6mths,mths_since_last_delinq,mths_since_last_record,open_acc,pub_rec,revol_bal,revol_util,total_acc,initial_list_status,total_rec_int,total_rec_late_fee,recoveries,collection_recovery_fee,collections_12_mths_ex_med,mths_since_last_major_derog,application_type,verification_status_joint,last_week_pay,acc_now_delinq,tot_coll_amt,tot_cur_bal,total_rev_hi_lim\r\n",
      "11937648,14000,14000,14000,60 months,BAT4711174,16.24,C,C5,Data Analyst,4 years,RENT,73500,Source Verified,n,,credit_card,wrap it up,450xx,OH,28.65,1,1,20,,16,0,29828,65.3,53,f,3915.61,0,0,0,0,,INDIVIDUAL,,104th week,0,0,85230,45700\r\n",
      "38983318,16000,16000,16000,60 months,BAT4318899,9.49,B,B2,Senior Database Administrator,5 years,MORTGAGE,105000,Source Verified,n,,major_purchase,Major purchase,275xx,NC,31.19,0,0,,,8,0,4161,19.4,63,w,1495.06,0,0,0,0,,INDIVIDUAL,,57th week,0,0,444991,21400\r\n",
      "27999917,11050,11050,11050,60 months,BAT446479,15.61,D,D1,Customer service representative,10+ years,RENT,62300,Not Verified,n,,debt_consolidation,Debt consolidation,672xx,KS,21.73,1,0,23,115,11,1,12064,74,20,w,2096.21,0,0,0,0,26,INDIVIDUAL,,70th week,0,0,105737,16300\r\n",
      "61514932,35000,35000,34700,60 months,BAT4664105,12.69,C,C2,ACCT OFFICER,10+ years,OWN,150000,Source Verified,n,,debt_consolidation,Debt consolidation,961xx,CA,17.27,0,0,,,21,0,32549,45,26,f,1756.31,0,0,0,0,,INDIVIDUAL,,22th week,0,0,287022,72400\r\n",
      "59622821,6500,6500,6500,36 months, ,6.89,A,A3,Paralegal,5 years,MORTGAGE,52000,Not Verified,n,,major_purchase,Major purchase,707xx,LA,20.19,0,0,,,16,0,5133,19.2,36,w,172.21,0,0,0,0,,INDIVIDUAL,,22th week,0,0,234278,26700\r\n",
      "28822038,13475,13475,13475,60 months, ,18.99,E,E1,Human Resource,9 years,OWN,30000,Source Verified,n,,debt_consolidation,Debt consolidation,248xx,WV,34.8,0,0,,,15,0,23742,55.6,25,w,3133.03,0,0,0,0,,INDIVIDUAL,,70th week,0,131,29383,42700\r\n",
      "10718089,5000,5000,5000,36 months, ,7.62,A,A3,Software Engineer,2 years,RENT,64000,Not Verified,n,,debt_consolidation,repayment,532xx,WI,12.3,0,0,,,13,0,4560,26.8,24,w,344.69,0,0,0,0,,INDIVIDUAL,,74th week,0,0,38403,17000\r\n",
      "58114582,10000,10000,10000,60 months,BAT5662637,22.99,F,F2,Deli Manager,7 years,RENT,36400,Verified,n,,debt_consolidation,Debt consolidation,394xx,MS,8.9,0,3,,,12,0,7002,38.5,13,w,1110.12,0,0,0,0,,INDIVIDUAL,,26th week,0,246,7119,18200\r\n",
      "35023176,30000,30000,30000,36 months,BAT6248271,9.17,B,B1,Registered Nurse,10+ years,RENT,110000,Verified,n,,debt_consolidation,Debt consolidation,937xx,CA,14.52,1,0,21,,19,0,31148,61,42,w,1386.68,0,0,0,0,21,INDIVIDUAL,,26th week,0,0,85611,51100\r\n"
     ]
    }
   ],
   "source": [
    "!head test_indessa.csv"
   ]
  }
 ],
 "metadata": {
  "kernelspec": {
   "display_name": "Python 3.5",
   "language": "python",
   "name": "python3"
  },
  "language_info": {
   "codemirror_mode": {
    "name": "ipython",
    "version": 3
   },
   "file_extension": ".py",
   "mimetype": "text/x-python",
   "name": "python",
   "nbconvert_exporter": "python",
   "pygments_lexer": "ipython3",
   "version": "3.5.5"
  }
 },
 "nbformat": 4,
 "nbformat_minor": 1
}
